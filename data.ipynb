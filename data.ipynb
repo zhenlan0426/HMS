{
 "cells": [
  {
   "cell_type": "code",
   "execution_count": 3,
   "metadata": {},
   "outputs": [],
   "source": [
    "import pandas as pd, numpy as np\n",
    "from functions import *\n",
    "LOCAL = True\n",
    "if LOCAL:\n",
    "    dataPath = '/home/zhenlan/Desktop/Projects/HMS/Data/'\n",
    "dataFolder = 'train_eegs_LocalNorm'"
   ]
  },
  {
   "cell_type": "code",
   "execution_count": 2,
   "metadata": {},
   "outputs": [],
   "source": [
    "df = pd.read_csv(dataPath+'train.csv')\n",
    "TARGETS = df.columns[-6:].tolist()"
   ]
  },
  {
   "cell_type": "code",
   "execution_count": 3,
   "metadata": {},
   "outputs": [],
   "source": [
    "# normalize prob\n",
    "df[TARGETS] = df[TARGETS].values/df[TARGETS].sum(1).values[:,None]"
   ]
  },
  {
   "cell_type": "code",
   "execution_count": 4,
   "metadata": {},
   "outputs": [],
   "source": [
    "out = df.groupby('eeg_id').agg({'eeg_label_offset_seconds': list,\n",
    "                                    'seizure_vote': list,\n",
    "                                    'lpd_vote': list,\n",
    "                                    'gpd_vote': list,\n",
    "                                    'lrda_vote': list,\n",
    "                                    'grda_vote': list,\n",
    "                                    'other_vote': list\n",
    "                                }).reset_index()"
   ]
  },
  {
   "cell_type": "code",
   "execution_count": null,
   "metadata": {},
   "outputs": [],
   "source": [
    "def process(x,mean=None,std=None):\n",
    "    # fill NaN, standardize (global mean/std over all eegs)\n",
    "    if mean is None:\n",
    "        mean,std = np.nanmean(x,0),np.nanstd(x,0)\n",
    "    x = (x-mean)/(std + 1e-8)\n",
    "    return np.nan_to_num(x)\n",
    "\n",
    "# Global Norm -> Consistency Across Patients\n",
    "AllData = eegData(out,dataPath)\n",
    "eegs = np.concatenate(AllData.eegs,0)\n",
    "mean,std = np.nanmean(eegs,0),np.nanstd(eegs,0)\n",
    "for id,array in zip(out.eeg_id.tolist(),AllData.eegs):\n",
    "    np.save(dataPath+'train_eegs_globalNorm/'+str(id)+'.npy', process(array,mean,std))\n",
    "    \n",
    "# Local Norm -> EEG patterns can be influenced by individual anatomical and physiological differences. These can affect the EEG signal in ways that are not directly related to the neurological conditions being studied.\n",
    "for id,array in zip(out.eeg_id.tolist(),AllData.eegs):\n",
    "    np.save(dataPath+'train_eegs_LocalNorm/'+str(id)+'.npy', process(array))"
   ]
  },
  {
   "cell_type": "code",
   "execution_count": 5,
   "metadata": {},
   "outputs": [],
   "source": [
    "train = out.iloc[:15000]\n",
    "val = out.iloc[15000:]"
   ]
  },
  {
   "cell_type": "code",
   "execution_count": 10,
   "metadata": {},
   "outputs": [],
   "source": [
    "train.to_pickle(dataPath+'train_data.pkl')\n",
    "val.to_pickle(dataPath+'val_data.pkl')"
   ]
  },
  {
   "cell_type": "code",
   "execution_count": 13,
   "metadata": {},
   "outputs": [],
   "source": [
    "# eegs,targets = next(iter(train_loader))\n",
    "# eegs.shape,targets.shape\n",
    "# (torch.Size([8, 10000, 20]), torch.Size([8, 6]))"
   ]
  },
  {
   "cell_type": "code",
   "execution_count": null,
   "metadata": {},
   "outputs": [],
   "source": [
    "\n"
   ]
  }
 ],
 "metadata": {
  "kernelspec": {
   "display_name": "base",
   "language": "python",
   "name": "python3"
  },
  "language_info": {
   "codemirror_mode": {
    "name": "ipython",
    "version": 3
   },
   "file_extension": ".py",
   "mimetype": "text/x-python",
   "name": "python",
   "nbconvert_exporter": "python",
   "pygments_lexer": "ipython3",
   "version": "3.10.13"
  }
 },
 "nbformat": 4,
 "nbformat_minor": 2
}
