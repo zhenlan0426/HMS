{
 "cells": [
  {
   "cell_type": "code",
   "execution_count": 1,
   "metadata": {},
   "outputs": [],
   "source": [
    "import pandas as pd, numpy as np\n",
    "from torch.utils.data import DataLoader\n",
    "from functions import *\n",
    "LOCAL = True\n",
    "if LOCAL:\n",
    "    dataPath = '/home/zhenlan/Desktop/Projects/HMS/Data/'"
   ]
  },
  {
   "cell_type": "code",
   "execution_count": 2,
   "metadata": {},
   "outputs": [],
   "source": [
    "df = pd.read_csv(dataPath+'train.csv')\n",
    "TARGETS = df.columns[-6:].tolist()"
   ]
  },
  {
   "cell_type": "code",
   "execution_count": 3,
   "metadata": {},
   "outputs": [],
   "source": [
    "# normalize prob\n",
    "df[TARGETS] = df[TARGETS].values/df[TARGETS].sum(1).values[:,None]"
   ]
  },
  {
   "cell_type": "code",
   "execution_count": 4,
   "metadata": {},
   "outputs": [],
   "source": [
    "out = df.groupby('eeg_id').agg({'eeg_label_offset_seconds': list,\n",
    "                                    'seizure_vote': list,\n",
    "                                    'lpd_vote': list,\n",
    "                                    'gpd_vote': list,\n",
    "                                    'lrda_vote': list,\n",
    "                                    'grda_vote': list,\n",
    "                                    'other_vote': list\n",
    "                                }).reset_index()"
   ]
  },
  {
   "cell_type": "code",
   "execution_count": 5,
   "metadata": {},
   "outputs": [],
   "source": [
    "train = out.iloc[:15000]\n",
    "val = out.iloc[15000:]"
   ]
  },
  {
   "cell_type": "code",
   "execution_count": 10,
   "metadata": {},
   "outputs": [],
   "source": [
    "train.to_pickle(dataPath+'train_data.pkl')\n",
    "val.to_pickle(dataPath+'val_data.pkl')"
   ]
  },
  {
   "cell_type": "code",
   "execution_count": 3,
   "metadata": {},
   "outputs": [],
   "source": [
    "# train = pd.read_pickle(dataPath+'train_data.pkl')\n",
    "# val = pd.read_pickle(dataPath+'val_data.pkl')"
   ]
  },
  {
   "cell_type": "code",
   "execution_count": 5,
   "metadata": {},
   "outputs": [],
   "source": [
    "trainData = eegData(train,dataPath)\n",
    "valData = eegData(val,dataPath)\n",
    "\n",
    "train_loader = DataLoader(trainData, batch_size=8, shuffle=True, num_workers=16)\n",
    "val_loader = DataLoader(valData, batch_size=8, shuffle=False, num_workers=16)"
   ]
  },
  {
   "cell_type": "code",
   "execution_count": 6,
   "metadata": {},
   "outputs": [
    {
     "data": {
      "text/plain": [
       "(torch.Size([8, 10000, 20]), torch.Size([8, 6]))"
      ]
     },
     "execution_count": 6,
     "metadata": {},
     "output_type": "execute_result"
    }
   ],
   "source": [
    "# eegs,targets = next(iter(train_loader))\n",
    "# eegs.shape,targets.shape\n",
    "# (torch.Size([8, 10000, 20]), torch.Size([8, 6]))"
   ]
  }
 ],
 "metadata": {
  "kernelspec": {
   "display_name": "base",
   "language": "python",
   "name": "python3"
  },
  "language_info": {
   "codemirror_mode": {
    "name": "ipython",
    "version": 3
   },
   "file_extension": ".py",
   "mimetype": "text/x-python",
   "name": "python",
   "nbconvert_exporter": "python",
   "pygments_lexer": "ipython3",
   "version": "3.10.13"
  }
 },
 "nbformat": 4,
 "nbformat_minor": 2
}
