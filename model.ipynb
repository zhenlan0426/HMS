{
 "cells": [
  {
   "cell_type": "code",
   "execution_count": 3,
   "metadata": {},
   "outputs": [],
   "source": [
    "from functions import *\n",
    "from torch.nn.utils import clip_grad_value_\n",
    "from torch.optim import AdamW,Adam,SGD\n",
    "LOCAL = True\n",
    "if LOCAL:\n",
    "    dataPath = '/home/zhenlan/Desktop/Projects/HMS/Data/'"
   ]
  },
  {
   "cell_type": "code",
   "execution_count": 9,
   "metadata": {},
   "outputs": [],
   "source": [
    "# HP\n",
    "config = {\n",
    "    \"d_model\": 768,\n",
    "    \"n_layer\": 24,\n",
    "    \"rms_norm\": True,\n",
    "    \"normOverChannel\": True,\n",
    "    \"in_channels\": 20, # if EEG\n",
    "    \"seqLen\": 10000,\n",
    "    \"dataFolder\": \"train_eegs_LocalNorm\",\n",
    "    \"classWeight\": 1.0\n",
    "}\n",
    "\n",
    "config.update(fixed_config)\n",
    "config = Config(config)\n",
    "\n",
    "# other training parameters\n",
    "epochs = 6\n",
    "batch_size = 2\n",
    "accumulation_steps = 8\n",
    "lr = 1e-4\n",
    "clip = 1e-2"
   ]
  },
  {
   "cell_type": "code",
   "execution_count": 5,
   "metadata": {},
   "outputs": [],
   "source": [
    "# Data\n",
    "train = pd.read_pickle(dataPath+'train_data.pkl')\n",
    "val = pd.read_pickle(dataPath+'val_data.pkl')\n",
    "trainData = eegData(train,dataPath,config.dataFolder)\n",
    "valData = eegData(val,dataPath,config.dataFolder)\n",
    "\n",
    "train_loader = DataLoader(trainData, batch_size=batch_size, shuffle=True, num_workers=16)\n",
    "val_loader = DataLoader(valData, batch_size=batch_size, shuffle=False, num_workers=16)"
   ]
  },
  {
   "cell_type": "code",
   "execution_count": 5,
   "metadata": {},
   "outputs": [],
   "source": [
    "model = seq2seqModel(config).to('cuda')\n",
    "trainable_params = model.parameters()\n",
    "optimizer = AdamW(trainable_params,lr = lr,amsgrad=True)\n",
    "#opt = Adam(paras,lr = lr)\n",
    "# opt = SGD(paras,lr = lr)"
   ]
  },
  {
   "cell_type": "code",
   "execution_count": null,
   "metadata": {},
   "outputs": [],
   "source": [
    "for epoch in range(epochs):\n",
    "    model.train()\n",
    "    train_loss = np.zeros(2)\n",
    "    skip = 0\n",
    "    # train\n",
    "    for i, (input_ids,targets) in enumerate(train_loader):\n",
    "        input_ids,targets = input_ids.to('cuda'),targets.to('cuda')\n",
    "        autoL,classL = model(input_ids,targets)\n",
    "        loss = autoL + config.classWeight * classL\n",
    "        loss.backward()\n",
    "        train_loss += np.array([autoL.detach().cpu(),classL.detach().cpu()])\n",
    "        # print(i,train_loss)\n",
    "        if (i + 1) % accumulation_steps == 0:\n",
    "            clip_grad_value_(trainable_params,clip)\n",
    "            optimizer.step()\n",
    "            optimizer.zero_grad()\n",
    "    train_loss /= (i+1)\n",
    "\n",
    "    # eval\n",
    "    eval_loss = np.zeros(2)\n",
    "    model.eval()\n",
    "    with torch.no_grad():\n",
    "        for i, (input_ids,targets) in enumerate(val_loader):\n",
    "                input_ids,targets = input_ids.to('cuda'),targets.to('cuda')\n",
    "                autoL,classL = model(input_ids,targets)\n",
    "                eval_loss += np.array([autoL.detach().cpu(),classL.detach().cpu()])\n",
    "    eval_loss /= (i+1)\n",
    "    print(f\"epoch {epoch}: train autoL {train_loss[0]} train classL {train_loss[1]}, eval autoL {eval_loss[0]} train classL {eval_loss[1]}\")\n",
    "    model.train()"
   ]
  }
 ],
 "metadata": {
  "kernelspec": {
   "display_name": "base",
   "language": "python",
   "name": "python3"
  },
  "language_info": {
   "codemirror_mode": {
    "name": "ipython",
    "version": 3
   },
   "file_extension": ".py",
   "mimetype": "text/x-python",
   "name": "python",
   "nbconvert_exporter": "python",
   "pygments_lexer": "ipython3",
   "version": "3.10.13"
  }
 },
 "nbformat": 4,
 "nbformat_minor": 2
}
